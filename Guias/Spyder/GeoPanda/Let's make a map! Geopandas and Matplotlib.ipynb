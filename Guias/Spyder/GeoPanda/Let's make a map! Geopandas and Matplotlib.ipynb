{
 "cells": [
  {
   "cell_type": "code",
   "execution_count": 1,
   "metadata": {},
   "outputs": [],
   "source": [
    "%matplotlib inline\n",
    "import pandas as pd\n",
    "import numpy as np\n",
    "import matplotlib.pyplot as plt\n",
    "import geopandas as gpd"
   ]
  },
  {
   "cell_type": "code",
   "execution_count": 12,
   "metadata": {},
   "outputs": [],
   "source": [
    "fp = \"G:\\My Drive\\INVESTIGACION\\Cartografia/Barrios.shp\"\n",
    "map_df = gpd.read_file(fp)"
   ]
  },
  {
   "cell_type": "code",
   "execution_count": 13,
   "metadata": {},
   "outputs": [
    {
     "data": {
      "text/html": [
       "<div>\n",
       "<style scoped>\n",
       "    .dataframe tbody tr th:only-of-type {\n",
       "        vertical-align: middle;\n",
       "    }\n",
       "\n",
       "    .dataframe tbody tr th {\n",
       "        vertical-align: top;\n",
       "    }\n",
       "\n",
       "    .dataframe thead th {\n",
       "        text-align: right;\n",
       "    }\n",
       "</style>\n",
       "<table border=\"1\" class=\"dataframe\">\n",
       "  <thead>\n",
       "    <tr style=\"text-align: right;\">\n",
       "      <th></th>\n",
       "      <th>OBJECTID</th>\n",
       "      <th>ID_BARRIO</th>\n",
       "      <th>S_NOMBARRI</th>\n",
       "      <th>ID_MPIO</th>\n",
       "      <th>ID_CONBARR</th>\n",
       "      <th>ID_COMUNA</th>\n",
       "      <th>geometry</th>\n",
       "    </tr>\n",
       "  </thead>\n",
       "  <tbody>\n",
       "    <tr>\n",
       "      <th>0</th>\n",
       "      <td>1</td>\n",
       "      <td>14</td>\n",
       "      <td>San Jose</td>\n",
       "      <td>266</td>\n",
       "      <td>052660000014</td>\n",
       "      <td>00</td>\n",
       "      <td>POLYGON ((-75.58064 6.16393, -75.58057 6.16369...</td>\n",
       "    </tr>\n",
       "    <tr>\n",
       "      <th>1</th>\n",
       "      <td>2</td>\n",
       "      <td>11</td>\n",
       "      <td>La Paz</td>\n",
       "      <td>266</td>\n",
       "      <td>052660000011</td>\n",
       "      <td>00</td>\n",
       "      <td>POLYGON ((-75.58988 6.16203, -75.59002 6.16135...</td>\n",
       "    </tr>\n",
       "    <tr>\n",
       "      <th>2</th>\n",
       "      <td>3</td>\n",
       "      <td>15</td>\n",
       "      <td>Loma de Las Brujas</td>\n",
       "      <td>266</td>\n",
       "      <td>052660000015</td>\n",
       "      <td>00</td>\n",
       "      <td>POLYGON ((-75.57953 6.16595, -75.57946 6.16594...</td>\n",
       "    </tr>\n",
       "    <tr>\n",
       "      <th>3</th>\n",
       "      <td>4</td>\n",
       "      <td>10</td>\n",
       "      <td>Primavera</td>\n",
       "      <td>266</td>\n",
       "      <td>052660000010</td>\n",
       "      <td>00</td>\n",
       "      <td>POLYGON ((-75.59583 6.16409, -75.59594 6.16391...</td>\n",
       "    </tr>\n",
       "    <tr>\n",
       "      <th>4</th>\n",
       "      <td>5</td>\n",
       "      <td>17</td>\n",
       "      <td>El Chocho</td>\n",
       "      <td>266</td>\n",
       "      <td>052660000017</td>\n",
       "      <td>00</td>\n",
       "      <td>POLYGON ((-75.56484 6.16712, -75.56477 6.16712...</td>\n",
       "    </tr>\n",
       "  </tbody>\n",
       "</table>\n",
       "</div>"
      ],
      "text/plain": [
       "   OBJECTID ID_BARRIO          S_NOMBARRI ID_MPIO    ID_CONBARR ID_COMUNA  \\\n",
       "0         1        14            San Jose     266  052660000014        00   \n",
       "1         2        11              La Paz     266  052660000011        00   \n",
       "2         3        15  Loma de Las Brujas     266  052660000015        00   \n",
       "3         4        10           Primavera     266  052660000010        00   \n",
       "4         5        17           El Chocho     266  052660000017        00   \n",
       "\n",
       "                                            geometry  \n",
       "0  POLYGON ((-75.58064 6.16393, -75.58057 6.16369...  \n",
       "1  POLYGON ((-75.58988 6.16203, -75.59002 6.16135...  \n",
       "2  POLYGON ((-75.57953 6.16595, -75.57946 6.16594...  \n",
       "3  POLYGON ((-75.59583 6.16409, -75.59594 6.16391...  \n",
       "4  POLYGON ((-75.56484 6.16712, -75.56477 6.16712...  "
      ]
     },
     "execution_count": 13,
     "metadata": {},
     "output_type": "execute_result"
    }
   ],
   "source": [
    "map_df.head()"
   ]
  },
  {
   "cell_type": "code",
   "execution_count": 14,
   "metadata": {},
   "outputs": [
    {
     "data": {
      "image/png": "[encoded data removed]",
      "text/plain": [
       "<Figure size 432x288 with 1 Axes>"
      ]
     },
     "metadata": {
      "needs_background": "light"
     },
     "output_type": "display_data"
    }
   ],
   "source": [
    "map_df.plot();"
   ]
  },
  {
   "cell_type": "code",
   "execution_count": 18,
   "metadata": {},
   "outputs": [
    {
     "data": {
      "text/html": [
       "<div>\n",
       "<style scoped>\n",
       "    .dataframe tbody tr th:only-of-type {\n",
       "        vertical-align: middle;\n",
       "    }\n",
       "\n",
       "    .dataframe tbody tr th {\n",
       "        vertical-align: top;\n",
       "    }\n",
       "\n",
       "    .dataframe thead th {\n",
       "        text-align: right;\n",
       "    }\n",
       "</style>\n",
       "<table border=\"1\" class=\"dataframe\">\n",
       "  <thead>\n",
       "    <tr style=\"text-align: right;\">\n",
       "      <th></th>\n",
       "      <th>S_NOMBARRI</th>\n",
       "      <th>SHAPE_Leng</th>\n",
       "      <th>SHAPE_Area</th>\n",
       "    </tr>\n",
       "  </thead>\n",
       "  <tbody>\n",
       "    <tr>\n",
       "      <th>0</th>\n",
       "      <td>San Jose</td>\n",
       "      <td>3047.058332</td>\n",
       "      <td>367515.2776</td>\n",
       "    </tr>\n",
       "    <tr>\n",
       "      <th>1</th>\n",
       "      <td>La Paz</td>\n",
       "      <td>2780.181666</td>\n",
       "      <td>337169.8578</td>\n",
       "    </tr>\n",
       "    <tr>\n",
       "      <th>2</th>\n",
       "      <td>Loma de Las Brujas</td>\n",
       "      <td>2660.995035</td>\n",
       "      <td>286156.5117</td>\n",
       "    </tr>\n",
       "    <tr>\n",
       "      <th>3</th>\n",
       "      <td>Primavera</td>\n",
       "      <td>1929.741489</td>\n",
       "      <td>231351.4507</td>\n",
       "    </tr>\n",
       "    <tr>\n",
       "      <th>4</th>\n",
       "      <td>El Chocho</td>\n",
       "      <td>2380.625464</td>\n",
       "      <td>256830.2183</td>\n",
       "    </tr>\n",
       "  </tbody>\n",
       "</table>\n",
       "</div>"
      ],
      "text/plain": [
       "           S_NOMBARRI   SHAPE_Leng   SHAPE_Area\n",
       "0            San Jose  3047.058332  367515.2776\n",
       "1              La Paz  2780.181666  337169.8578\n",
       "2  Loma de Las Brujas  2660.995035  286156.5117\n",
       "3           Primavera  1929.741489  231351.4507\n",
       "4           El Chocho  2380.625464  256830.2183"
      ]
     },
     "execution_count": 18,
     "metadata": {},
     "output_type": "execute_result"
    }
   ],
   "source": [
    "df = pd.read_csv('barrios_csv.csv', header=0)\n",
    "\n",
    "df.head()"
   ]
  },
  {
   "cell_type": "code",
   "execution_count": 19,
   "metadata": {},
   "outputs": [
    {
     "data": {
      "text/html": [
       "<div>\n",
       "<style scoped>\n",
       "    .dataframe tbody tr th:only-of-type {\n",
       "        vertical-align: middle;\n",
       "    }\n",
       "\n",
       "    .dataframe tbody tr th {\n",
       "        vertical-align: top;\n",
       "    }\n",
       "\n",
       "    .dataframe thead th {\n",
       "        text-align: right;\n",
       "    }\n",
       "</style>\n",
       "<table border=\"1\" class=\"dataframe\">\n",
       "  <thead>\n",
       "    <tr style=\"text-align: right;\">\n",
       "      <th></th>\n",
       "      <th>barrio</th>\n",
       "      <th>perimetro</th>\n",
       "      <th>area</th>\n",
       "    </tr>\n",
       "  </thead>\n",
       "  <tbody>\n",
       "    <tr>\n",
       "      <th>0</th>\n",
       "      <td>San Jose</td>\n",
       "      <td>3047.058332</td>\n",
       "      <td>367515.2776</td>\n",
       "    </tr>\n",
       "    <tr>\n",
       "      <th>1</th>\n",
       "      <td>La Paz</td>\n",
       "      <td>2780.181666</td>\n",
       "      <td>337169.8578</td>\n",
       "    </tr>\n",
       "    <tr>\n",
       "      <th>2</th>\n",
       "      <td>Loma de Las Brujas</td>\n",
       "      <td>2660.995035</td>\n",
       "      <td>286156.5117</td>\n",
       "    </tr>\n",
       "    <tr>\n",
       "      <th>3</th>\n",
       "      <td>Primavera</td>\n",
       "      <td>1929.741489</td>\n",
       "      <td>231351.4507</td>\n",
       "    </tr>\n",
       "    <tr>\n",
       "      <th>4</th>\n",
       "      <td>El Chocho</td>\n",
       "      <td>2380.625464</td>\n",
       "      <td>256830.2183</td>\n",
       "    </tr>\n",
       "  </tbody>\n",
       "</table>\n",
       "</div>"
      ],
      "text/plain": [
       "               barrio    perimetro         area\n",
       "0            San Jose  3047.058332  367515.2776\n",
       "1              La Paz  2780.181666  337169.8578\n",
       "2  Loma de Las Brujas  2660.995035  286156.5117\n",
       "3           Primavera  1929.741489  231351.4507\n",
       "4           El Chocho  2380.625464  256830.2183"
      ]
     },
     "execution_count": 19,
     "metadata": {},
     "output_type": "execute_result"
    }
   ],
   "source": [
    "df = df[['S_NOMBARRI','SHAPE_Leng','SHAPE_Area']]\n",
    "score = df.rename(index=str, columns={\"S_NOMBARRI\": \"barrio\",\n",
    "                                      \"SHAPE_Leng\": \"perimetro\",\n",
    "                                      \"SHAPE_Area\": \"area\"})\n",
    "score.head()"
   ]
  },
  {
   "cell_type": "code",
   "execution_count": 20,
   "metadata": {},
   "outputs": [
    {
     "data": {
      "text/html": [
       "<div>\n",
       "<style scoped>\n",
       "    .dataframe tbody tr th:only-of-type {\n",
       "        vertical-align: middle;\n",
       "    }\n",
       "\n",
       "    .dataframe tbody tr th {\n",
       "        vertical-align: top;\n",
       "    }\n",
       "\n",
       "    .dataframe thead th {\n",
       "        text-align: right;\n",
       "    }\n",
       "</style>\n",
       "<table border=\"1\" class=\"dataframe\">\n",
       "  <thead>\n",
       "    <tr style=\"text-align: right;\">\n",
       "      <th></th>\n",
       "      <th>OBJECTID</th>\n",
       "      <th>ID_BARRIO</th>\n",
       "      <th>ID_MPIO</th>\n",
       "      <th>ID_CONBARR</th>\n",
       "      <th>ID_COMUNA</th>\n",
       "      <th>geometry</th>\n",
       "      <th>perimetro</th>\n",
       "      <th>area</th>\n",
       "    </tr>\n",
       "  </thead>\n",
       "  <tbody>\n",
       "    <tr>\n",
       "      <th>19 de Abril</th>\n",
       "      <td>425</td>\n",
       "      <td>44</td>\n",
       "      <td>360</td>\n",
       "      <td>053600000344</td>\n",
       "      <td>03</td>\n",
       "      <td>POLYGON ((-75.63317 6.17547, -75.63302 6.17544...</td>\n",
       "      <td>1826.818097</td>\n",
       "      <td>123491.74220</td>\n",
       "    </tr>\n",
       "    <tr>\n",
       "      <th>Acevedo</th>\n",
       "      <td>487</td>\n",
       "      <td>02</td>\n",
       "      <td>088</td>\n",
       "      <td>050880001002</td>\n",
       "      <td>10</td>\n",
       "      <td>POLYGON ((-75.55255 6.31210, -75.55251 6.31209...</td>\n",
       "      <td>1393.438069</td>\n",
       "      <td>66454.74593</td>\n",
       "    </tr>\n",
       "    <tr>\n",
       "      <th>Aguas Calientes</th>\n",
       "      <td>273</td>\n",
       "      <td>04</td>\n",
       "      <td>079</td>\n",
       "      <td>050790000004</td>\n",
       "      <td>00</td>\n",
       "      <td>POLYGON ((-75.32761 6.43625, -75.32757 6.43610...</td>\n",
       "      <td>1152.228281</td>\n",
       "      <td>52530.21907</td>\n",
       "    </tr>\n",
       "    <tr>\n",
       "      <th>Alcala</th>\n",
       "      <td>34</td>\n",
       "      <td>23</td>\n",
       "      <td>266</td>\n",
       "      <td>052660000023</td>\n",
       "      <td>00</td>\n",
       "      <td>POLYGON ((-75.58962 6.17209, -75.58947 6.17200...</td>\n",
       "      <td>2105.730272</td>\n",
       "      <td>279923.56470</td>\n",
       "    </tr>\n",
       "    <tr>\n",
       "      <th>Alcalá</th>\n",
       "      <td>482</td>\n",
       "      <td>02</td>\n",
       "      <td>088</td>\n",
       "      <td>050880000902</td>\n",
       "      <td>09</td>\n",
       "      <td>POLYGON ((-75.53734 6.33153, -75.53742 6.33149...</td>\n",
       "      <td>1420.320662</td>\n",
       "      <td>51656.32038</td>\n",
       "    </tr>\n",
       "  </tbody>\n",
       "</table>\n",
       "</div>"
      ],
      "text/plain": [
       "                 OBJECTID ID_BARRIO ID_MPIO    ID_CONBARR ID_COMUNA  \\\n",
       "19 de Abril           425        44     360  053600000344        03   \n",
       "Acevedo               487        02     088  050880001002        10   \n",
       "Aguas Calientes       273        04     079  050790000004        00   \n",
       "Alcala                 34        23     266  052660000023        00   \n",
       "Alcalá                482        02     088  050880000902        09   \n",
       "\n",
       "                                                          geometry  \\\n",
       "19 de Abril      POLYGON ((-75.63317 6.17547, -75.63302 6.17544...   \n",
       "Acevedo          POLYGON ((-75.55255 6.31210, -75.55251 6.31209...   \n",
       "Aguas Calientes  POLYGON ((-75.32761 6.43625, -75.32757 6.43610...   \n",
       "Alcala           POLYGON ((-75.58962 6.17209, -75.58947 6.17200...   \n",
       "Alcalá           POLYGON ((-75.53734 6.33153, -75.53742 6.33149...   \n",
       "\n",
       "                   perimetro          area  \n",
       "19 de Abril      1826.818097  123491.74220  \n",
       "Acevedo          1393.438069   66454.74593  \n",
       "Aguas Calientes  1152.228281   52530.21907  \n",
       "Alcala           2105.730272  279923.56470  \n",
       "Alcalá           1420.320662   51656.32038  "
      ]
     },
     "execution_count": 20,
     "metadata": {},
     "output_type": "execute_result"
    }
   ],
   "source": [
    "merged = map_df.set_index('S_NOMBARRI').join(score.set_index('barrio'))\n",
    "merged.head()"
   ]
  },
  {
   "cell_type": "code",
   "execution_count": 21,
   "metadata": {},
   "outputs": [
    {
     "data": {
      "image/png": "[encoded data removed]",
      "text/plain": [
       "<Figure size 720x432 with 2 Axes>"
      ]
     },
     "metadata": {
      "needs_background": "light"
     },
     "output_type": "display_data"
    }
   ],
   "source": [
    "variable = 'area'\n",
    "vmin, vmax = 120, 220\n",
    "fig, ax = plt.subplots(1, figsize=(10, 6))\n",
    "merged.plot(column=variable, cmap='Blues', linewidth=0.8, ax=ax, edgecolor='0.8')\n",
    "ax.axis('off')\n",
    "ax.set_title('Area Barrios', \\\n",
    "              fontdict={'fontsize': '25',\n",
    "                        'fontweight' : '3'})\n",
    "ax.annotate('Source: DANE(2015)',\n",
    "           xy=(0.1, .08), xycoords='figure fraction',\n",
    "           horizontalalignment='left', verticalalignment='top',\n",
    "           fontsize=10, color='#555555')\n",
    "\n",
    "# Create colorbar as a legend\n",
    "sm = plt.cm.ScalarMappable(cmap='Blues', norm=plt.Normalize(vmin=vmin, vmax=vmax))\n",
    "sm._A = []\n",
    "cbar = fig.colorbar(sm)\n",
    "\n",
    "\n",
    "fig.savefig('testmap.png', dpi=300)\n"
   ]
  }
 ],
 "metadata": {
  "kernelspec": {
   "display_name": "Python 3",
   "language": "python",
   "name": "python3"
  },
  "language_info": {
   "codemirror_mode": {
    "name": "ipython",
    "version": 3
   },
   "file_extension": ".py",
   "mimetype": "text/x-python",
   "name": "python",
   "nbconvert_exporter": "python",
   "pygments_lexer": "ipython3",
   "version": "3.8.3"
  }
 },
 "nbformat": 4,
 "nbformat_minor": 4
}
