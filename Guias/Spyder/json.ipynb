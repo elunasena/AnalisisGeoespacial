{
 "cells": [
  {
   "cell_type": "code",
   "execution_count": 2,
   "metadata": {
    "colab": {},
    "colab_type": "code",
    "id": "HeKVafoY_xWw"
   },
   "outputs": [],
   "source": [
    "import requests"
   ]
  },
  {
   "cell_type": "code",
   "execution_count": 4,
   "metadata": {
    "colab": {
     "base_uri": "https://localhost:8080/",
     "height": 34
    },
    "colab_type": "code",
    "id": "zpmmzYT6_zRT",
    "outputId": "254dfc40-7756-4f0f-ff24-7dd52d3960cd"
   },
   "outputs": [
    {
     "data": {
      "text/plain": [
       "<Response [200]>"
      ]
     },
     "execution_count": 4,
     "metadata": {
      "tags": []
     },
     "output_type": "execute_result"
    }
   ],
   "source": [
    "req = requests.get('https://jsonplaceholder.typicode.com/users')\n",
    "req"
   ]
  },
  {
   "cell_type": "code",
   "execution_count": 5,
   "metadata": {
    "colab": {
     "base_uri": "https://localhost:8080/",
     "height": 255
    },
    "colab_type": "code",
    "id": "8SLVhAeSAE_Z",
    "outputId": "b8147b91-1e0a-4383-f463-deb4d9e9f2a6"
   },
   "outputs": [
    {
     "data": {
      "text/plain": [
       "{'address': {'city': 'Gwenborough',\n",
       "  'geo': {'lat': '-37.3159', 'lng': '81.1496'},\n",
       "  'street': 'Kulas Light',\n",
       "  'suite': 'Apt. 556',\n",
       "  'zipcode': '92998-3874'},\n",
       " 'company': {'bs': 'harness real-time e-markets',\n",
       "  'catchPhrase': 'Multi-layered client-server neural-net',\n",
       "  'name': 'Romaguera-Crona'},\n",
       " 'email': 'Sincere@april.biz',\n",
       " 'id': 1,\n",
       " 'name': 'Leanne Graham',\n",
       " 'phone': '1-770-736-8031 x56442',\n",
       " 'username': 'Bret',\n",
       " 'website': 'hildegard.org'}"
      ]
     },
     "execution_count": 5,
     "metadata": {
      "tags": []
     },
     "output_type": "execute_result"
    }
   ],
   "source": [
    "users = req.json()\n",
    "users[0]"
   ]
  },
  {
   "cell_type": "code",
   "execution_count": 6,
   "metadata": {
    "colab": {
     "base_uri": "https://localhost:8080/",
     "height": 34
    },
    "colab_type": "code",
    "id": "yHGZzqFxARny",
    "outputId": "6a63f5aa-2f5f-4901-80c6-6debc236d0bc"
   },
   "outputs": [
    {
     "data": {
      "text/plain": [
       "list"
      ]
     },
     "execution_count": 6,
     "metadata": {
      "tags": []
     },
     "output_type": "execute_result"
    }
   ],
   "source": [
    "type(users)"
   ]
  },
  {
   "cell_type": "code",
   "execution_count": 7,
   "metadata": {
    "colab": {
     "base_uri": "https://localhost:8080/",
     "height": 34
    },
    "colab_type": "code",
    "id": "QYsUOmewAUkC",
    "outputId": "25ce48b4-16fc-41f8-9553-1e7ab09b9293"
   },
   "outputs": [
    {
     "data": {
      "text/plain": [
       "dict"
      ]
     },
     "execution_count": 7,
     "metadata": {
      "tags": []
     },
     "output_type": "execute_result"
    }
   ],
   "source": [
    "type(users[0])"
   ]
  },
  {
   "cell_type": "code",
   "execution_count": 9,
   "metadata": {
    "colab": {},
    "colab_type": "code",
    "id": "y7ZLV0NKAh56"
   },
   "outputs": [],
   "source": [
    "import json\n",
    "with open('json_write_test.json', 'w') as f:\n",
    "    json.dump(users, f, indent=4)"
   ]
  },
  {
   "cell_type": "code",
   "execution_count": 12,
   "metadata": {
    "colab": {
     "base_uri": "https://localhost:8080/",
     "height": 1000
    },
    "colab_type": "code",
    "id": "vTrQet5nBGRR",
    "outputId": "3829bda6-e54e-4767-8c69-57d16ed390e1"
   },
   "outputs": [
    {
     "data": {
      "text/plain": [
       "[{'address': {'city': 'Gwenborough',\n",
       "   'geo': {'lat': '-37.3159', 'lng': '81.1496'},\n",
       "   'street': 'Kulas Light',\n",
       "   'suite': 'Apt. 556',\n",
       "   'zipcode': '92998-3874'},\n",
       "  'company': {'bs': 'harness real-time e-markets',\n",
       "   'catchPhrase': 'Multi-layered client-server neural-net',\n",
       "   'name': 'Romaguera-Crona'},\n",
       "  'email': 'Sincere@april.biz',\n",
       "  'id': 1,\n",
       "  'name': 'Leanne Graham',\n",
       "  'phone': '1-770-736-8031 x56442',\n",
       "  'username': 'Bret',\n",
       "  'website': 'hildegard.org'},\n",
       " {'address': {'city': 'Wisokyburgh',\n",
       "   'geo': {'lat': '-43.9509', 'lng': '-34.4618'},\n",
       "   'street': 'Victor Plains',\n",
       "   'suite': 'Suite 879',\n",
       "   'zipcode': '90566-7771'},\n",
       "  'company': {'bs': 'synergize scalable supply-chains',\n",
       "   'catchPhrase': 'Proactive didactic contingency',\n",
       "   'name': 'Deckow-Crist'},\n",
       "  'email': 'Shanna@melissa.tv',\n",
       "  'id': 2,\n",
       "  'name': 'Ervin Howell',\n",
       "  'phone': '010-692-6593 x09125',\n",
       "  'username': 'Antonette',\n",
       "  'website': 'anastasia.net'},\n",
       " {'address': {'city': 'McKenziehaven',\n",
       "   'geo': {'lat': '-68.6102', 'lng': '-47.0653'},\n",
       "   'street': 'Douglas Extension',\n",
       "   'suite': 'Suite 847',\n",
       "   'zipcode': '59590-4157'},\n",
       "  'company': {'bs': 'e-enable strategic applications',\n",
       "   'catchPhrase': 'Face to face bifurcated interface',\n",
       "   'name': 'Romaguera-Jacobson'},\n",
       "  'email': 'Nathan@yesenia.net',\n",
       "  'id': 3,\n",
       "  'name': 'Clementine Bauch',\n",
       "  'phone': '1-463-123-4447',\n",
       "  'username': 'Samantha',\n",
       "  'website': 'ramiro.info'},\n",
       " {'address': {'city': 'South Elvis',\n",
       "   'geo': {'lat': '29.4572', 'lng': '-164.2990'},\n",
       "   'street': 'Hoeger Mall',\n",
       "   'suite': 'Apt. 692',\n",
       "   'zipcode': '53919-4257'},\n",
       "  'company': {'bs': 'transition cutting-edge web services',\n",
       "   'catchPhrase': 'Multi-tiered zero tolerance productivity',\n",
       "   'name': 'Robel-Corkery'},\n",
       "  'email': 'Julianne.OConner@kory.org',\n",
       "  'id': 4,\n",
       "  'name': 'Patricia Lebsack',\n",
       "  'phone': '493-170-9623 x156',\n",
       "  'username': 'Karianne',\n",
       "  'website': 'kale.biz'},\n",
       " {'address': {'city': 'Roscoeview',\n",
       "   'geo': {'lat': '-31.8129', 'lng': '62.5342'},\n",
       "   'street': 'Skiles Walks',\n",
       "   'suite': 'Suite 351',\n",
       "   'zipcode': '33263'},\n",
       "  'company': {'bs': 'revolutionize end-to-end systems',\n",
       "   'catchPhrase': 'User-centric fault-tolerant solution',\n",
       "   'name': 'Keebler LLC'},\n",
       "  'email': 'Lucio_Hettinger@annie.ca',\n",
       "  'id': 5,\n",
       "  'name': 'Chelsey Dietrich',\n",
       "  'phone': '(254)954-1289',\n",
       "  'username': 'Kamren',\n",
       "  'website': 'demarco.info'},\n",
       " {'address': {'city': 'South Christy',\n",
       "   'geo': {'lat': '-71.4197', 'lng': '71.7478'},\n",
       "   'street': 'Norberto Crossing',\n",
       "   'suite': 'Apt. 950',\n",
       "   'zipcode': '23505-1337'},\n",
       "  'company': {'bs': 'e-enable innovative applications',\n",
       "   'catchPhrase': 'Synchronised bottom-line interface',\n",
       "   'name': 'Considine-Lockman'},\n",
       "  'email': 'Karley_Dach@jasper.info',\n",
       "  'id': 6,\n",
       "  'name': 'Mrs. Dennis Schulist',\n",
       "  'phone': '1-477-935-8478 x6430',\n",
       "  'username': 'Leopoldo_Corkery',\n",
       "  'website': 'ola.org'},\n",
       " {'address': {'city': 'Howemouth',\n",
       "   'geo': {'lat': '24.8918', 'lng': '21.8984'},\n",
       "   'street': 'Rex Trail',\n",
       "   'suite': 'Suite 280',\n",
       "   'zipcode': '58804-1099'},\n",
       "  'company': {'bs': 'generate enterprise e-tailers',\n",
       "   'catchPhrase': 'Configurable multimedia task-force',\n",
       "   'name': 'Johns Group'},\n",
       "  'email': 'Telly.Hoeger@billy.biz',\n",
       "  'id': 7,\n",
       "  'name': 'Kurtis Weissnat',\n",
       "  'phone': '210.067.6132',\n",
       "  'username': 'Elwyn.Skiles',\n",
       "  'website': 'elvis.io'},\n",
       " {'address': {'city': 'Aliyaview',\n",
       "   'geo': {'lat': '-14.3990', 'lng': '-120.7677'},\n",
       "   'street': 'Ellsworth Summit',\n",
       "   'suite': 'Suite 729',\n",
       "   'zipcode': '45169'},\n",
       "  'company': {'bs': 'e-enable extensible e-tailers',\n",
       "   'catchPhrase': 'Implemented secondary concept',\n",
       "   'name': 'Abernathy Group'},\n",
       "  'email': 'Sherwood@rosamond.me',\n",
       "  'id': 8,\n",
       "  'name': 'Nicholas Runolfsdottir V',\n",
       "  'phone': '586.493.6943 x140',\n",
       "  'username': 'Maxime_Nienow',\n",
       "  'website': 'jacynthe.com'},\n",
       " {'address': {'city': 'Bartholomebury',\n",
       "   'geo': {'lat': '24.6463', 'lng': '-168.8889'},\n",
       "   'street': 'Dayna Park',\n",
       "   'suite': 'Suite 449',\n",
       "   'zipcode': '76495-3109'},\n",
       "  'company': {'bs': 'aggregate real-time technologies',\n",
       "   'catchPhrase': 'Switchable contextually-based project',\n",
       "   'name': 'Yost and Sons'},\n",
       "  'email': 'Chaim_McDermott@dana.io',\n",
       "  'id': 9,\n",
       "  'name': 'Glenna Reichert',\n",
       "  'phone': '(775)976-6794 x41206',\n",
       "  'username': 'Delphine',\n",
       "  'website': 'conrad.com'},\n",
       " {'address': {'city': 'Lebsackbury',\n",
       "   'geo': {'lat': '-38.2386', 'lng': '57.2232'},\n",
       "   'street': 'Kattie Turnpike',\n",
       "   'suite': 'Suite 198',\n",
       "   'zipcode': '31428-2261'},\n",
       "  'company': {'bs': 'target end-to-end models',\n",
       "   'catchPhrase': 'Centralized empowering task-force',\n",
       "   'name': 'Hoeger LLC'},\n",
       "  'email': 'Rey.Padberg@karina.biz',\n",
       "  'id': 10,\n",
       "  'name': 'Clementina DuBuque',\n",
       "  'phone': '024-648-3804',\n",
       "  'username': 'Moriah.Stanton',\n",
       "  'website': 'ambrose.net'}]"
      ]
     },
     "execution_count": 12,
     "metadata": {
      "tags": []
     },
     "output_type": "execute_result"
    }
   ],
   "source": [
    "with open('json_write_test.json') as f:\n",
    "    data=json.load(f)\n",
    "data"
   ]
  },
  {
   "cell_type": "code",
   "execution_count": 16,
   "metadata": {
    "colab": {
     "base_uri": "https://localhost:8080/",
     "height": 187
    },
    "colab_type": "code",
    "id": "4MUcpXc5B45i",
    "outputId": "72f0925e-64e6-4994-f972-88866c80e47e"
   },
   "outputs": [
    {
     "name": "stdout",
     "output_type": "stream",
     "text": [
      "Address of Leanne Graham is Kulas Light Apt. 556, Gwenborough\n",
      "Address of Ervin Howell is Victor Plains Suite 879, Wisokyburgh\n",
      "Address of Clementine Bauch is Douglas Extension Suite 847, McKenziehaven\n",
      "Address of Patricia Lebsack is Hoeger Mall Apt. 692, South Elvis\n",
      "Address of Chelsey Dietrich is Skiles Walks Suite 351, Roscoeview\n",
      "Address of Mrs. Dennis Schulist is Norberto Crossing Apt. 950, South Christy\n",
      "Address of Kurtis Weissnat is Rex Trail Suite 280, Howemouth\n",
      "Address of Nicholas Runolfsdottir V is Ellsworth Summit Suite 729, Aliyaview\n",
      "Address of Glenna Reichert is Dayna Park Suite 449, Bartholomebury\n",
      "Address of Clementina DuBuque is Kattie Turnpike Suite 198, Lebsackbury\n"
     ]
    }
   ],
   "source": [
    "for row in users:\n",
    "    print(f\"Address of {row['name']} is {row['address']['street']} {row['address']['suite']}, {row['address']['city']}\")"
   ]
  },
  {
   "cell_type": "code",
   "execution_count": 18,
   "metadata": {
    "colab": {
     "base_uri": "https://localhost:8080/",
     "height": 289
    },
    "colab_type": "code",
    "id": "aGNKfGfvCX4S",
    "outputId": "c2c9c157-8392-415e-f2fa-a30d54b9236c"
   },
   "outputs": [
    {
     "data": {
      "text/html": [
       "<div>\n",
       "<style scoped>\n",
       "    .dataframe tbody tr th:only-of-type {\n",
       "        vertical-align: middle;\n",
       "    }\n",
       "\n",
       "    .dataframe tbody tr th {\n",
       "        vertical-align: top;\n",
       "    }\n",
       "\n",
       "    .dataframe thead th {\n",
       "        text-align: right;\n",
       "    }\n",
       "</style>\n",
       "<table border=\"1\" class=\"dataframe\">\n",
       "  <thead>\n",
       "    <tr style=\"text-align: right;\">\n",
       "      <th></th>\n",
       "      <th>id</th>\n",
       "      <th>name</th>\n",
       "      <th>username</th>\n",
       "      <th>email</th>\n",
       "      <th>address</th>\n",
       "      <th>phone</th>\n",
       "      <th>website</th>\n",
       "      <th>company</th>\n",
       "    </tr>\n",
       "  </thead>\n",
       "  <tbody>\n",
       "    <tr>\n",
       "      <th>0</th>\n",
       "      <td>1</td>\n",
       "      <td>Leanne Graham</td>\n",
       "      <td>Bret</td>\n",
       "      <td>Sincere@april.biz</td>\n",
       "      <td>{'street': 'Kulas Light', 'suite': 'Apt. 556',...</td>\n",
       "      <td>1-770-736-8031 x56442</td>\n",
       "      <td>hildegard.org</td>\n",
       "      <td>{'name': 'Romaguera-Crona', 'catchPhrase': 'Mu...</td>\n",
       "    </tr>\n",
       "    <tr>\n",
       "      <th>1</th>\n",
       "      <td>2</td>\n",
       "      <td>Ervin Howell</td>\n",
       "      <td>Antonette</td>\n",
       "      <td>Shanna@melissa.tv</td>\n",
       "      <td>{'street': 'Victor Plains', 'suite': 'Suite 87...</td>\n",
       "      <td>010-692-6593 x09125</td>\n",
       "      <td>anastasia.net</td>\n",
       "      <td>{'name': 'Deckow-Crist', 'catchPhrase': 'Proac...</td>\n",
       "    </tr>\n",
       "    <tr>\n",
       "      <th>2</th>\n",
       "      <td>3</td>\n",
       "      <td>Clementine Bauch</td>\n",
       "      <td>Samantha</td>\n",
       "      <td>Nathan@yesenia.net</td>\n",
       "      <td>{'street': 'Douglas Extension', 'suite': 'Suit...</td>\n",
       "      <td>1-463-123-4447</td>\n",
       "      <td>ramiro.info</td>\n",
       "      <td>{'name': 'Romaguera-Jacobson', 'catchPhrase': ...</td>\n",
       "    </tr>\n",
       "    <tr>\n",
       "      <th>3</th>\n",
       "      <td>4</td>\n",
       "      <td>Patricia Lebsack</td>\n",
       "      <td>Karianne</td>\n",
       "      <td>Julianne.OConner@kory.org</td>\n",
       "      <td>{'street': 'Hoeger Mall', 'suite': 'Apt. 692',...</td>\n",
       "      <td>493-170-9623 x156</td>\n",
       "      <td>kale.biz</td>\n",
       "      <td>{'name': 'Robel-Corkery', 'catchPhrase': 'Mult...</td>\n",
       "    </tr>\n",
       "    <tr>\n",
       "      <th>4</th>\n",
       "      <td>5</td>\n",
       "      <td>Chelsey Dietrich</td>\n",
       "      <td>Kamren</td>\n",
       "      <td>Lucio_Hettinger@annie.ca</td>\n",
       "      <td>{'street': 'Skiles Walks', 'suite': 'Suite 351...</td>\n",
       "      <td>(254)954-1289</td>\n",
       "      <td>demarco.info</td>\n",
       "      <td>{'name': 'Keebler LLC', 'catchPhrase': 'User-c...</td>\n",
       "    </tr>\n",
       "  </tbody>\n",
       "</table>\n",
       "</div>"
      ],
      "text/plain": [
       "   id  ...                                            company\n",
       "0   1  ...  {'name': 'Romaguera-Crona', 'catchPhrase': 'Mu...\n",
       "1   2  ...  {'name': 'Deckow-Crist', 'catchPhrase': 'Proac...\n",
       "2   3  ...  {'name': 'Romaguera-Jacobson', 'catchPhrase': ...\n",
       "3   4  ...  {'name': 'Robel-Corkery', 'catchPhrase': 'Mult...\n",
       "4   5  ...  {'name': 'Keebler LLC', 'catchPhrase': 'User-c...\n",
       "\n",
       "[5 rows x 8 columns]"
      ]
     },
     "execution_count": 18,
     "metadata": {
      "tags": []
     },
     "output_type": "execute_result"
    }
   ],
   "source": [
    "import pandas as pd\n",
    "pd_data = pd.DataFrame(data)\n",
    "pd_data.head()"
   ]
  },
  {
   "cell_type": "code",
   "execution_count": 25,
   "metadata": {
    "colab": {},
    "colab_type": "code",
    "id": "F-aNPyH0Cn_V"
   },
   "outputs": [],
   "source": [
    "def flatten_json(json):\n",
    "    output = {}\n",
    " \n",
    "    def flatten(inpt, name=''):\n",
    "        if type(inpt) is dict:\n",
    "            for elem in inpt:\n",
    "                flatten(inpt[elem], name + elem + '_')\n",
    "        elif type(inpt) is list:\n",
    "            i = 0\n",
    "            for elem in inpt:\n",
    "                flatten(elem, name + str(i) + '_')\n",
    "                i += 1\n",
    "        else:\n",
    "            output[name[:-1]] = inpt\n",
    " \n",
    "    flatten(json)\n",
    "    return output"
   ]
  },
  {
   "cell_type": "code",
   "execution_count": 27,
   "metadata": {
    "colab": {
     "base_uri": "https://localhost:8080/",
     "height": 1000
    },
    "colab_type": "code",
    "id": "qtLtzYAGDCQe",
    "outputId": "b9caf7df-757e-4c99-9774-8453eda550b0"
   },
   "outputs": [
    {
     "data": {
      "text/plain": [
       "[{'address_city': 'Gwenborough',\n",
       "  'address_geo_lat': '-37.3159',\n",
       "  'address_geo_lng': '81.1496',\n",
       "  'address_street': 'Kulas Light',\n",
       "  'address_suite': 'Apt. 556',\n",
       "  'address_zipcode': '92998-3874',\n",
       "  'company_bs': 'harness real-time e-markets',\n",
       "  'company_catchPhrase': 'Multi-layered client-server neural-net',\n",
       "  'company_name': 'Romaguera-Crona',\n",
       "  'email': 'Sincere@april.biz',\n",
       "  'id': 1,\n",
       "  'name': 'Leanne Graham',\n",
       "  'phone': '1-770-736-8031 x56442',\n",
       "  'username': 'Bret',\n",
       "  'website': 'hildegard.org'},\n",
       " {'address_city': 'Wisokyburgh',\n",
       "  'address_geo_lat': '-43.9509',\n",
       "  'address_geo_lng': '-34.4618',\n",
       "  'address_street': 'Victor Plains',\n",
       "  'address_suite': 'Suite 879',\n",
       "  'address_zipcode': '90566-7771',\n",
       "  'company_bs': 'synergize scalable supply-chains',\n",
       "  'company_catchPhrase': 'Proactive didactic contingency',\n",
       "  'company_name': 'Deckow-Crist',\n",
       "  'email': 'Shanna@melissa.tv',\n",
       "  'id': 2,\n",
       "  'name': 'Ervin Howell',\n",
       "  'phone': '010-692-6593 x09125',\n",
       "  'username': 'Antonette',\n",
       "  'website': 'anastasia.net'},\n",
       " {'address_city': 'McKenziehaven',\n",
       "  'address_geo_lat': '-68.6102',\n",
       "  'address_geo_lng': '-47.0653',\n",
       "  'address_street': 'Douglas Extension',\n",
       "  'address_suite': 'Suite 847',\n",
       "  'address_zipcode': '59590-4157',\n",
       "  'company_bs': 'e-enable strategic applications',\n",
       "  'company_catchPhrase': 'Face to face bifurcated interface',\n",
       "  'company_name': 'Romaguera-Jacobson',\n",
       "  'email': 'Nathan@yesenia.net',\n",
       "  'id': 3,\n",
       "  'name': 'Clementine Bauch',\n",
       "  'phone': '1-463-123-4447',\n",
       "  'username': 'Samantha',\n",
       "  'website': 'ramiro.info'},\n",
       " {'address_city': 'South Elvis',\n",
       "  'address_geo_lat': '29.4572',\n",
       "  'address_geo_lng': '-164.2990',\n",
       "  'address_street': 'Hoeger Mall',\n",
       "  'address_suite': 'Apt. 692',\n",
       "  'address_zipcode': '53919-4257',\n",
       "  'company_bs': 'transition cutting-edge web services',\n",
       "  'company_catchPhrase': 'Multi-tiered zero tolerance productivity',\n",
       "  'company_name': 'Robel-Corkery',\n",
       "  'email': 'Julianne.OConner@kory.org',\n",
       "  'id': 4,\n",
       "  'name': 'Patricia Lebsack',\n",
       "  'phone': '493-170-9623 x156',\n",
       "  'username': 'Karianne',\n",
       "  'website': 'kale.biz'},\n",
       " {'address_city': 'Roscoeview',\n",
       "  'address_geo_lat': '-31.8129',\n",
       "  'address_geo_lng': '62.5342',\n",
       "  'address_street': 'Skiles Walks',\n",
       "  'address_suite': 'Suite 351',\n",
       "  'address_zipcode': '33263',\n",
       "  'company_bs': 'revolutionize end-to-end systems',\n",
       "  'company_catchPhrase': 'User-centric fault-tolerant solution',\n",
       "  'company_name': 'Keebler LLC',\n",
       "  'email': 'Lucio_Hettinger@annie.ca',\n",
       "  'id': 5,\n",
       "  'name': 'Chelsey Dietrich',\n",
       "  'phone': '(254)954-1289',\n",
       "  'username': 'Kamren',\n",
       "  'website': 'demarco.info'},\n",
       " {'address_city': 'South Christy',\n",
       "  'address_geo_lat': '-71.4197',\n",
       "  'address_geo_lng': '71.7478',\n",
       "  'address_street': 'Norberto Crossing',\n",
       "  'address_suite': 'Apt. 950',\n",
       "  'address_zipcode': '23505-1337',\n",
       "  'company_bs': 'e-enable innovative applications',\n",
       "  'company_catchPhrase': 'Synchronised bottom-line interface',\n",
       "  'company_name': 'Considine-Lockman',\n",
       "  'email': 'Karley_Dach@jasper.info',\n",
       "  'id': 6,\n",
       "  'name': 'Mrs. Dennis Schulist',\n",
       "  'phone': '1-477-935-8478 x6430',\n",
       "  'username': 'Leopoldo_Corkery',\n",
       "  'website': 'ola.org'},\n",
       " {'address_city': 'Howemouth',\n",
       "  'address_geo_lat': '24.8918',\n",
       "  'address_geo_lng': '21.8984',\n",
       "  'address_street': 'Rex Trail',\n",
       "  'address_suite': 'Suite 280',\n",
       "  'address_zipcode': '58804-1099',\n",
       "  'company_bs': 'generate enterprise e-tailers',\n",
       "  'company_catchPhrase': 'Configurable multimedia task-force',\n",
       "  'company_name': 'Johns Group',\n",
       "  'email': 'Telly.Hoeger@billy.biz',\n",
       "  'id': 7,\n",
       "  'name': 'Kurtis Weissnat',\n",
       "  'phone': '210.067.6132',\n",
       "  'username': 'Elwyn.Skiles',\n",
       "  'website': 'elvis.io'},\n",
       " {'address_city': 'Aliyaview',\n",
       "  'address_geo_lat': '-14.3990',\n",
       "  'address_geo_lng': '-120.7677',\n",
       "  'address_street': 'Ellsworth Summit',\n",
       "  'address_suite': 'Suite 729',\n",
       "  'address_zipcode': '45169',\n",
       "  'company_bs': 'e-enable extensible e-tailers',\n",
       "  'company_catchPhrase': 'Implemented secondary concept',\n",
       "  'company_name': 'Abernathy Group',\n",
       "  'email': 'Sherwood@rosamond.me',\n",
       "  'id': 8,\n",
       "  'name': 'Nicholas Runolfsdottir V',\n",
       "  'phone': '586.493.6943 x140',\n",
       "  'username': 'Maxime_Nienow',\n",
       "  'website': 'jacynthe.com'},\n",
       " {'address_city': 'Bartholomebury',\n",
       "  'address_geo_lat': '24.6463',\n",
       "  'address_geo_lng': '-168.8889',\n",
       "  'address_street': 'Dayna Park',\n",
       "  'address_suite': 'Suite 449',\n",
       "  'address_zipcode': '76495-3109',\n",
       "  'company_bs': 'aggregate real-time technologies',\n",
       "  'company_catchPhrase': 'Switchable contextually-based project',\n",
       "  'company_name': 'Yost and Sons',\n",
       "  'email': 'Chaim_McDermott@dana.io',\n",
       "  'id': 9,\n",
       "  'name': 'Glenna Reichert',\n",
       "  'phone': '(775)976-6794 x41206',\n",
       "  'username': 'Delphine',\n",
       "  'website': 'conrad.com'},\n",
       " {'address_city': 'Lebsackbury',\n",
       "  'address_geo_lat': '-38.2386',\n",
       "  'address_geo_lng': '57.2232',\n",
       "  'address_street': 'Kattie Turnpike',\n",
       "  'address_suite': 'Suite 198',\n",
       "  'address_zipcode': '31428-2261',\n",
       "  'company_bs': 'target end-to-end models',\n",
       "  'company_catchPhrase': 'Centralized empowering task-force',\n",
       "  'company_name': 'Hoeger LLC',\n",
       "  'email': 'Rey.Padberg@karina.biz',\n",
       "  'id': 10,\n",
       "  'name': 'Clementina DuBuque',\n",
       "  'phone': '024-648-3804',\n",
       "  'username': 'Moriah.Stanton',\n",
       "  'website': 'ambrose.net'}]"
      ]
     },
     "execution_count": 27,
     "metadata": {
      "tags": []
     },
     "output_type": "execute_result"
    }
   ],
   "source": [
    "flattened = [flatten_json(row) for row in data]\n",
    "flattened"
   ]
  },
  {
   "cell_type": "code",
   "execution_count": 29,
   "metadata": {
    "colab": {
     "base_uri": "https://localhost:8080/",
     "height": 428
    },
    "colab_type": "code",
    "id": "Rg71r9uEELsD",
    "outputId": "b8c7ab41-9153-4743-efc5-47367f30f5ae"
   },
   "outputs": [
    {
     "data": {
      "text/html": [
       "<div>\n",
       "<style scoped>\n",
       "    .dataframe tbody tr th:only-of-type {\n",
       "        vertical-align: middle;\n",
       "    }\n",
       "\n",
       "    .dataframe tbody tr th {\n",
       "        vertical-align: top;\n",
       "    }\n",
       "\n",
       "    .dataframe thead th {\n",
       "        text-align: right;\n",
       "    }\n",
       "</style>\n",
       "<table border=\"1\" class=\"dataframe\">\n",
       "  <thead>\n",
       "    <tr style=\"text-align: right;\">\n",
       "      <th></th>\n",
       "      <th>id</th>\n",
       "      <th>name</th>\n",
       "      <th>username</th>\n",
       "      <th>email</th>\n",
       "      <th>address_street</th>\n",
       "      <th>address_suite</th>\n",
       "      <th>address_city</th>\n",
       "      <th>address_zipcode</th>\n",
       "      <th>address_geo_lat</th>\n",
       "      <th>address_geo_lng</th>\n",
       "      <th>phone</th>\n",
       "      <th>website</th>\n",
       "      <th>company_name</th>\n",
       "      <th>company_catchPhrase</th>\n",
       "      <th>company_bs</th>\n",
       "    </tr>\n",
       "  </thead>\n",
       "  <tbody>\n",
       "    <tr>\n",
       "      <th>0</th>\n",
       "      <td>1</td>\n",
       "      <td>Leanne Graham</td>\n",
       "      <td>Bret</td>\n",
       "      <td>Sincere@april.biz</td>\n",
       "      <td>Kulas Light</td>\n",
       "      <td>Apt. 556</td>\n",
       "      <td>Gwenborough</td>\n",
       "      <td>92998-3874</td>\n",
       "      <td>-37.3159</td>\n",
       "      <td>81.1496</td>\n",
       "      <td>1-770-736-8031 x56442</td>\n",
       "      <td>hildegard.org</td>\n",
       "      <td>Romaguera-Crona</td>\n",
       "      <td>Multi-layered client-server neural-net</td>\n",
       "      <td>harness real-time e-markets</td>\n",
       "    </tr>\n",
       "    <tr>\n",
       "      <th>1</th>\n",
       "      <td>2</td>\n",
       "      <td>Ervin Howell</td>\n",
       "      <td>Antonette</td>\n",
       "      <td>Shanna@melissa.tv</td>\n",
       "      <td>Victor Plains</td>\n",
       "      <td>Suite 879</td>\n",
       "      <td>Wisokyburgh</td>\n",
       "      <td>90566-7771</td>\n",
       "      <td>-43.9509</td>\n",
       "      <td>-34.4618</td>\n",
       "      <td>010-692-6593 x09125</td>\n",
       "      <td>anastasia.net</td>\n",
       "      <td>Deckow-Crist</td>\n",
       "      <td>Proactive didactic contingency</td>\n",
       "      <td>synergize scalable supply-chains</td>\n",
       "    </tr>\n",
       "    <tr>\n",
       "      <th>2</th>\n",
       "      <td>3</td>\n",
       "      <td>Clementine Bauch</td>\n",
       "      <td>Samantha</td>\n",
       "      <td>Nathan@yesenia.net</td>\n",
       "      <td>Douglas Extension</td>\n",
       "      <td>Suite 847</td>\n",
       "      <td>McKenziehaven</td>\n",
       "      <td>59590-4157</td>\n",
       "      <td>-68.6102</td>\n",
       "      <td>-47.0653</td>\n",
       "      <td>1-463-123-4447</td>\n",
       "      <td>ramiro.info</td>\n",
       "      <td>Romaguera-Jacobson</td>\n",
       "      <td>Face to face bifurcated interface</td>\n",
       "      <td>e-enable strategic applications</td>\n",
       "    </tr>\n",
       "    <tr>\n",
       "      <th>3</th>\n",
       "      <td>4</td>\n",
       "      <td>Patricia Lebsack</td>\n",
       "      <td>Karianne</td>\n",
       "      <td>Julianne.OConner@kory.org</td>\n",
       "      <td>Hoeger Mall</td>\n",
       "      <td>Apt. 692</td>\n",
       "      <td>South Elvis</td>\n",
       "      <td>53919-4257</td>\n",
       "      <td>29.4572</td>\n",
       "      <td>-164.2990</td>\n",
       "      <td>493-170-9623 x156</td>\n",
       "      <td>kale.biz</td>\n",
       "      <td>Robel-Corkery</td>\n",
       "      <td>Multi-tiered zero tolerance productivity</td>\n",
       "      <td>transition cutting-edge web services</td>\n",
       "    </tr>\n",
       "    <tr>\n",
       "      <th>4</th>\n",
       "      <td>5</td>\n",
       "      <td>Chelsey Dietrich</td>\n",
       "      <td>Kamren</td>\n",
       "      <td>Lucio_Hettinger@annie.ca</td>\n",
       "      <td>Skiles Walks</td>\n",
       "      <td>Suite 351</td>\n",
       "      <td>Roscoeview</td>\n",
       "      <td>33263</td>\n",
       "      <td>-31.8129</td>\n",
       "      <td>62.5342</td>\n",
       "      <td>(254)954-1289</td>\n",
       "      <td>demarco.info</td>\n",
       "      <td>Keebler LLC</td>\n",
       "      <td>User-centric fault-tolerant solution</td>\n",
       "      <td>revolutionize end-to-end systems</td>\n",
       "    </tr>\n",
       "  </tbody>\n",
       "</table>\n",
       "</div>"
      ],
      "text/plain": [
       "   id  ...                            company_bs\n",
       "0   1  ...           harness real-time e-markets\n",
       "1   2  ...      synergize scalable supply-chains\n",
       "2   3  ...       e-enable strategic applications\n",
       "3   4  ...  transition cutting-edge web services\n",
       "4   5  ...      revolutionize end-to-end systems\n",
       "\n",
       "[5 rows x 15 columns]"
      ]
     },
     "execution_count": 29,
     "metadata": {
      "tags": []
     },
     "output_type": "execute_result"
    }
   ],
   "source": [
    "pd_data = pd.DataFrame(flattened)\n",
    "pd_data.head()"
   ]
  }
 ],
 "metadata": {
  "colab": {
   "name": "Untitled1.ipynb",
   "provenance": []
  },
  "kernelspec": {
   "display_name": "Python 3",
   "language": "python",
   "name": "python3"
  },
  "language_info": {
   "codemirror_mode": {
    "name": "ipython",
    "version": 3
   },
   "file_extension": ".py",
   "mimetype": "text/x-python",
   "name": "python",
   "nbconvert_exporter": "python",
   "pygments_lexer": "ipython3",
   "version": "3.8.3"
  }
 },
 "nbformat": 4,
 "nbformat_minor": 4
}
