{
 "cells": [
  {
   "cell_type": "markdown",
   "metadata": {},
   "source": [
    "# Descarga Sentinel"
   ]
  },
  {
   "cell_type": "code",
   "execution_count": 1,
   "metadata": {},
   "outputs": [],
   "source": [
    "import pandas as pd\n",
    "import numpy as np\n",
    "import matplotlib.pyplot as plt"
   ]
  },
  {
   "cell_type": "code",
   "execution_count": 2,
   "metadata": {},
   "outputs": [],
   "source": [
    "import os\n",
    "from shapely.geometry import MultiPolygon, Polygon"
   ]
  },
  {
   "cell_type": "code",
   "execution_count": 31,
   "metadata": {},
   "outputs": [],
   "source": [
    "from sentinelsat import SentinelAPI, read_geojson, geojson_to_wkt\n",
    "from datetime import date"
   ]
  },
  {
   "cell_type": "code",
   "execution_count": 5,
   "metadata": {},
   "outputs": [],
   "source": [
    "user = 'edieraristizabal' \n",
    "password = 'M*********8' \n",
    "\n",
    "api = SentinelAPI(user, password, 'https://scihub.copernicus.eu/dhus')"
   ]
  },
  {
   "cell_type": "code",
   "execution_count": 68,
   "metadata": {},
   "outputs": [],
   "source": [
    "aoi=\"POINT(6.15 -75.31)\""
   ]
  },
  {
   "cell_type": "code",
   "execution_count": 69,
   "metadata": {},
   "outputs": [],
   "source": [
    "products = api.query(aoi, \n",
    "                     date=('20190101', '20191231'), \n",
    "                     platformname = 'Sentinel-2',\n",
    "                     cloudcoverpercentage = (0,30))"
   ]
  },
  {
   "cell_type": "code",
   "execution_count": 70,
   "metadata": {},
   "outputs": [
    {
     "data": {
      "text/plain": [
       "23"
      ]
     },
     "execution_count": 70,
     "metadata": {},
     "output_type": "execute_result"
    }
   ],
   "source": [
    "len(products)"
   ]
  },
  {
   "cell_type": "code",
   "execution_count": 135,
   "metadata": {},
   "outputs": [
    {
     "data": {
      "text/html": [
       "<div>\n",
       "<style scoped>\n",
       "    .dataframe tbody tr th:only-of-type {\n",
       "        vertical-align: middle;\n",
       "    }\n",
       "\n",
       "    .dataframe tbody tr th {\n",
       "        vertical-align: top;\n",
       "    }\n",
       "\n",
       "    .dataframe thead th {\n",
       "        text-align: right;\n",
       "    }\n",
       "</style>\n",
       "<table border=\"1\" class=\"dataframe\">\n",
       "  <thead>\n",
       "    <tr style=\"text-align: right;\">\n",
       "      <th></th>\n",
       "      <th>title</th>\n",
       "      <th>link</th>\n",
       "      <th>link_alternative</th>\n",
       "      <th>link_icon</th>\n",
       "      <th>summary</th>\n",
       "      <th>beginposition</th>\n",
       "      <th>endposition</th>\n",
       "      <th>ingestiondate</th>\n",
       "      <th>orbitnumber</th>\n",
       "      <th>relativeorbitnumber</th>\n",
       "      <th>...</th>\n",
       "      <th>platformserialidentifier</th>\n",
       "      <th>processingbaseline</th>\n",
       "      <th>processinglevel</th>\n",
       "      <th>producttype</th>\n",
       "      <th>platformname</th>\n",
       "      <th>size</th>\n",
       "      <th>filename</th>\n",
       "      <th>level1cpdiidentifier</th>\n",
       "      <th>identifier</th>\n",
       "      <th>uuid</th>\n",
       "    </tr>\n",
       "  </thead>\n",
       "  <tbody>\n",
       "    <tr>\n",
       "      <th>d99e1352-c89a-49e9-a8e3-db3eb5c61e92</th>\n",
       "      <td>S2B_MSIL2A_20190220T080929_N0211_R049_T32CMB_2...</td>\n",
       "      <td>https://scihub.copernicus.eu/dhus/odata/v1/Pro...</td>\n",
       "      <td>https://scihub.copernicus.eu/dhus/odata/v1/Pro...</td>\n",
       "      <td>https://scihub.copernicus.eu/dhus/odata/v1/Pro...</td>\n",
       "      <td>Date: 2019-02-20T08:09:29.024Z, Instrument: MS...</td>\n",
       "      <td>2019-02-20 08:09:29.024</td>\n",
       "      <td>2019-02-20 08:09:29.024</td>\n",
       "      <td>2019-02-20 15:39:25.716</td>\n",
       "      <td>10228</td>\n",
       "      <td>49</td>\n",
       "      <td>...</td>\n",
       "      <td>Sentinel-2B</td>\n",
       "      <td>02.11</td>\n",
       "      <td>Level-2A</td>\n",
       "      <td>S2MSI2A</td>\n",
       "      <td>Sentinel-2</td>\n",
       "      <td>176.66 MB</td>\n",
       "      <td>S2B_MSIL2A_20190220T080929_N0211_R049_T32CMB_2...</td>\n",
       "      <td>NaN</td>\n",
       "      <td>S2B_MSIL2A_20190220T080929_N0211_R049_T32CMB_2...</td>\n",
       "      <td>d99e1352-c89a-49e9-a8e3-db3eb5c61e92</td>\n",
       "    </tr>\n",
       "    <tr>\n",
       "      <th>ee21c5d6-53d6-4fdc-bfa8-588600afc240</th>\n",
       "      <td>S2B_MSIL2A_20190112T073919_N0211_R063_T31CES_2...</td>\n",
       "      <td>https://scihub.copernicus.eu/dhus/odata/v1/Pro...</td>\n",
       "      <td>https://scihub.copernicus.eu/dhus/odata/v1/Pro...</td>\n",
       "      <td>https://scihub.copernicus.eu/dhus/odata/v1/Pro...</td>\n",
       "      <td>Date: 2019-01-12T07:39:19.024Z, Instrument: MS...</td>\n",
       "      <td>2019-01-12 07:39:19.024</td>\n",
       "      <td>2019-01-12 07:39:19.024</td>\n",
       "      <td>2019-01-12 13:29:34.554</td>\n",
       "      <td>9670</td>\n",
       "      <td>63</td>\n",
       "      <td>...</td>\n",
       "      <td>Sentinel-2B</td>\n",
       "      <td>02.11</td>\n",
       "      <td>Level-2A</td>\n",
       "      <td>S2MSI2A</td>\n",
       "      <td>Sentinel-2</td>\n",
       "      <td>738.30 MB</td>\n",
       "      <td>S2B_MSIL2A_20190112T073919_N0211_R063_T31CES_2...</td>\n",
       "      <td>NaN</td>\n",
       "      <td>S2B_MSIL2A_20190112T073919_N0211_R063_T31CES_2...</td>\n",
       "      <td>ee21c5d6-53d6-4fdc-bfa8-588600afc240</td>\n",
       "    </tr>\n",
       "    <tr>\n",
       "      <th>db6e1b08-2a0a-4d2f-9c6d-730219611a13</th>\n",
       "      <td>S2B_MSIL2A_20190201T073919_N0211_R063_T31CES_2...</td>\n",
       "      <td>https://scihub.copernicus.eu/dhus/odata/v1/Pro...</td>\n",
       "      <td>https://scihub.copernicus.eu/dhus/odata/v1/Pro...</td>\n",
       "      <td>https://scihub.copernicus.eu/dhus/odata/v1/Pro...</td>\n",
       "      <td>Date: 2019-02-01T07:39:19.024Z, Instrument: MS...</td>\n",
       "      <td>2019-02-01 07:39:19.024</td>\n",
       "      <td>2019-02-01 07:39:19.024</td>\n",
       "      <td>2019-02-01 14:03:58.513</td>\n",
       "      <td>9956</td>\n",
       "      <td>63</td>\n",
       "      <td>...</td>\n",
       "      <td>Sentinel-2B</td>\n",
       "      <td>02.11</td>\n",
       "      <td>Level-2A</td>\n",
       "      <td>S2MSI2A</td>\n",
       "      <td>Sentinel-2</td>\n",
       "      <td>774.48 MB</td>\n",
       "      <td>S2B_MSIL2A_20190201T073919_N0211_R063_T31CES_2...</td>\n",
       "      <td>NaN</td>\n",
       "      <td>S2B_MSIL2A_20190201T073919_N0211_R063_T31CES_2...</td>\n",
       "      <td>db6e1b08-2a0a-4d2f-9c6d-730219611a13</td>\n",
       "    </tr>\n",
       "    <tr>\n",
       "      <th>db0fb868-b89d-4c7e-8f89-bdfc737295c3</th>\n",
       "      <td>S2B_MSIL2A_20190122T073919_N0211_R063_T31CES_2...</td>\n",
       "      <td>https://scihub.copernicus.eu/dhus/odata/v1/Pro...</td>\n",
       "      <td>https://scihub.copernicus.eu/dhus/odata/v1/Pro...</td>\n",
       "      <td>https://scihub.copernicus.eu/dhus/odata/v1/Pro...</td>\n",
       "      <td>Date: 2019-01-22T07:39:19.024Z, Instrument: MS...</td>\n",
       "      <td>2019-01-22 07:39:19.024</td>\n",
       "      <td>2019-01-22 07:39:19.024</td>\n",
       "      <td>2019-01-22 20:21:10.600</td>\n",
       "      <td>9813</td>\n",
       "      <td>63</td>\n",
       "      <td>...</td>\n",
       "      <td>Sentinel-2B</td>\n",
       "      <td>02.11</td>\n",
       "      <td>Level-2A</td>\n",
       "      <td>S2MSI2A</td>\n",
       "      <td>Sentinel-2</td>\n",
       "      <td>772.95 MB</td>\n",
       "      <td>S2B_MSIL2A_20190122T073919_N0211_R063_T31CES_2...</td>\n",
       "      <td>NaN</td>\n",
       "      <td>S2B_MSIL2A_20190122T073919_N0211_R063_T31CES_2...</td>\n",
       "      <td>db0fb868-b89d-4c7e-8f89-bdfc737295c3</td>\n",
       "    </tr>\n",
       "    <tr>\n",
       "      <th>c464d572-3348-499d-b51f-0e59a22e45ca</th>\n",
       "      <td>S2B_MSIL2A_20190201T073919_N0211_R063_T32CMB_2...</td>\n",
       "      <td>https://scihub.copernicus.eu/dhus/odata/v1/Pro...</td>\n",
       "      <td>https://scihub.copernicus.eu/dhus/odata/v1/Pro...</td>\n",
       "      <td>https://scihub.copernicus.eu/dhus/odata/v1/Pro...</td>\n",
       "      <td>Date: 2019-02-01T07:39:19.024Z, Instrument: MS...</td>\n",
       "      <td>2019-02-01 07:39:19.024</td>\n",
       "      <td>2019-02-01 07:39:19.024</td>\n",
       "      <td>2019-02-01 14:06:45.374</td>\n",
       "      <td>9956</td>\n",
       "      <td>63</td>\n",
       "      <td>...</td>\n",
       "      <td>Sentinel-2B</td>\n",
       "      <td>02.11</td>\n",
       "      <td>Level-2A</td>\n",
       "      <td>S2MSI2A</td>\n",
       "      <td>Sentinel-2</td>\n",
       "      <td>773.50 MB</td>\n",
       "      <td>S2B_MSIL2A_20190201T073919_N0211_R063_T32CMB_2...</td>\n",
       "      <td>NaN</td>\n",
       "      <td>S2B_MSIL2A_20190201T073919_N0211_R063_T32CMB_2...</td>\n",
       "      <td>c464d572-3348-499d-b51f-0e59a22e45ca</td>\n",
       "    </tr>\n",
       "  </tbody>\n",
       "</table>\n",
       "<p>5 rows × 36 columns</p>\n",
       "</div>"
      ],
      "text/plain": [
       "                                                                                  title  \\\n",
       "d99e1352-c89a-49e9-a8e3-db3eb5c61e92  S2B_MSIL2A_20190220T080929_N0211_R049_T32CMB_2...   \n",
       "ee21c5d6-53d6-4fdc-bfa8-588600afc240  S2B_MSIL2A_20190112T073919_N0211_R063_T31CES_2...   \n",
       "db6e1b08-2a0a-4d2f-9c6d-730219611a13  S2B_MSIL2A_20190201T073919_N0211_R063_T31CES_2...   \n",
       "db0fb868-b89d-4c7e-8f89-bdfc737295c3  S2B_MSIL2A_20190122T073919_N0211_R063_T31CES_2...   \n",
       "c464d572-3348-499d-b51f-0e59a22e45ca  S2B_MSIL2A_20190201T073919_N0211_R063_T32CMB_2...   \n",
       "\n",
       "                                                                                   link  \\\n",
       "d99e1352-c89a-49e9-a8e3-db3eb5c61e92  https://scihub.copernicus.eu/dhus/odata/v1/Pro...   \n",
       "ee21c5d6-53d6-4fdc-bfa8-588600afc240  https://scihub.copernicus.eu/dhus/odata/v1/Pro...   \n",
       "db6e1b08-2a0a-4d2f-9c6d-730219611a13  https://scihub.copernicus.eu/dhus/odata/v1/Pro...   \n",
       "db0fb868-b89d-4c7e-8f89-bdfc737295c3  https://scihub.copernicus.eu/dhus/odata/v1/Pro...   \n",
       "c464d572-3348-499d-b51f-0e59a22e45ca  https://scihub.copernicus.eu/dhus/odata/v1/Pro...   \n",
       "\n",
       "                                                                       link_alternative  \\\n",
       "d99e1352-c89a-49e9-a8e3-db3eb5c61e92  https://scihub.copernicus.eu/dhus/odata/v1/Pro...   \n",
       "ee21c5d6-53d6-4fdc-bfa8-588600afc240  https://scihub.copernicus.eu/dhus/odata/v1/Pro...   \n",
       "db6e1b08-2a0a-4d2f-9c6d-730219611a13  https://scihub.copernicus.eu/dhus/odata/v1/Pro...   \n",
       "db0fb868-b89d-4c7e-8f89-bdfc737295c3  https://scihub.copernicus.eu/dhus/odata/v1/Pro...   \n",
       "c464d572-3348-499d-b51f-0e59a22e45ca  https://scihub.copernicus.eu/dhus/odata/v1/Pro...   \n",
       "\n",
       "                                                                              link_icon  \\\n",
       "d99e1352-c89a-49e9-a8e3-db3eb5c61e92  https://scihub.copernicus.eu/dhus/odata/v1/Pro...   \n",
       "ee21c5d6-53d6-4fdc-bfa8-588600afc240  https://scihub.copernicus.eu/dhus/odata/v1/Pro...   \n",
       "db6e1b08-2a0a-4d2f-9c6d-730219611a13  https://scihub.copernicus.eu/dhus/odata/v1/Pro...   \n",
       "db0fb868-b89d-4c7e-8f89-bdfc737295c3  https://scihub.copernicus.eu/dhus/odata/v1/Pro...   \n",
       "c464d572-3348-499d-b51f-0e59a22e45ca  https://scihub.copernicus.eu/dhus/odata/v1/Pro...   \n",
       "\n",
       "                                                                                summary  \\\n",
       "d99e1352-c89a-49e9-a8e3-db3eb5c61e92  Date: 2019-02-20T08:09:29.024Z, Instrument: MS...   \n",
       "ee21c5d6-53d6-4fdc-bfa8-588600afc240  Date: 2019-01-12T07:39:19.024Z, Instrument: MS...   \n",
       "db6e1b08-2a0a-4d2f-9c6d-730219611a13  Date: 2019-02-01T07:39:19.024Z, Instrument: MS...   \n",
       "db0fb868-b89d-4c7e-8f89-bdfc737295c3  Date: 2019-01-22T07:39:19.024Z, Instrument: MS...   \n",
       "c464d572-3348-499d-b51f-0e59a22e45ca  Date: 2019-02-01T07:39:19.024Z, Instrument: MS...   \n",
       "\n",
       "                                               beginposition  \\\n",
       "d99e1352-c89a-49e9-a8e3-db3eb5c61e92 2019-02-20 08:09:29.024   \n",
       "ee21c5d6-53d6-4fdc-bfa8-588600afc240 2019-01-12 07:39:19.024   \n",
       "db6e1b08-2a0a-4d2f-9c6d-730219611a13 2019-02-01 07:39:19.024   \n",
       "db0fb868-b89d-4c7e-8f89-bdfc737295c3 2019-01-22 07:39:19.024   \n",
       "c464d572-3348-499d-b51f-0e59a22e45ca 2019-02-01 07:39:19.024   \n",
       "\n",
       "                                                 endposition  \\\n",
       "d99e1352-c89a-49e9-a8e3-db3eb5c61e92 2019-02-20 08:09:29.024   \n",
       "ee21c5d6-53d6-4fdc-bfa8-588600afc240 2019-01-12 07:39:19.024   \n",
       "db6e1b08-2a0a-4d2f-9c6d-730219611a13 2019-02-01 07:39:19.024   \n",
       "db0fb868-b89d-4c7e-8f89-bdfc737295c3 2019-01-22 07:39:19.024   \n",
       "c464d572-3348-499d-b51f-0e59a22e45ca 2019-02-01 07:39:19.024   \n",
       "\n",
       "                                               ingestiondate  orbitnumber  \\\n",
       "d99e1352-c89a-49e9-a8e3-db3eb5c61e92 2019-02-20 15:39:25.716        10228   \n",
       "ee21c5d6-53d6-4fdc-bfa8-588600afc240 2019-01-12 13:29:34.554         9670   \n",
       "db6e1b08-2a0a-4d2f-9c6d-730219611a13 2019-02-01 14:03:58.513         9956   \n",
       "db0fb868-b89d-4c7e-8f89-bdfc737295c3 2019-01-22 20:21:10.600         9813   \n",
       "c464d572-3348-499d-b51f-0e59a22e45ca 2019-02-01 14:06:45.374         9956   \n",
       "\n",
       "                                      relativeorbitnumber  ...  \\\n",
       "d99e1352-c89a-49e9-a8e3-db3eb5c61e92                   49  ...   \n",
       "ee21c5d6-53d6-4fdc-bfa8-588600afc240                   63  ...   \n",
       "db6e1b08-2a0a-4d2f-9c6d-730219611a13                   63  ...   \n",
       "db0fb868-b89d-4c7e-8f89-bdfc737295c3                   63  ...   \n",
       "c464d572-3348-499d-b51f-0e59a22e45ca                   63  ...   \n",
       "\n",
       "                                      platformserialidentifier  \\\n",
       "d99e1352-c89a-49e9-a8e3-db3eb5c61e92               Sentinel-2B   \n",
       "ee21c5d6-53d6-4fdc-bfa8-588600afc240               Sentinel-2B   \n",
       "db6e1b08-2a0a-4d2f-9c6d-730219611a13               Sentinel-2B   \n",
       "db0fb868-b89d-4c7e-8f89-bdfc737295c3               Sentinel-2B   \n",
       "c464d572-3348-499d-b51f-0e59a22e45ca               Sentinel-2B   \n",
       "\n",
       "                                      processingbaseline  processinglevel  \\\n",
       "d99e1352-c89a-49e9-a8e3-db3eb5c61e92               02.11         Level-2A   \n",
       "ee21c5d6-53d6-4fdc-bfa8-588600afc240               02.11         Level-2A   \n",
       "db6e1b08-2a0a-4d2f-9c6d-730219611a13               02.11         Level-2A   \n",
       "db0fb868-b89d-4c7e-8f89-bdfc737295c3               02.11         Level-2A   \n",
       "c464d572-3348-499d-b51f-0e59a22e45ca               02.11         Level-2A   \n",
       "\n",
       "                                      producttype  platformname       size  \\\n",
       "d99e1352-c89a-49e9-a8e3-db3eb5c61e92      S2MSI2A    Sentinel-2  176.66 MB   \n",
       "ee21c5d6-53d6-4fdc-bfa8-588600afc240      S2MSI2A    Sentinel-2  738.30 MB   \n",
       "db6e1b08-2a0a-4d2f-9c6d-730219611a13      S2MSI2A    Sentinel-2  774.48 MB   \n",
       "db0fb868-b89d-4c7e-8f89-bdfc737295c3      S2MSI2A    Sentinel-2  772.95 MB   \n",
       "c464d572-3348-499d-b51f-0e59a22e45ca      S2MSI2A    Sentinel-2  773.50 MB   \n",
       "\n",
       "                                                                               filename  \\\n",
       "d99e1352-c89a-49e9-a8e3-db3eb5c61e92  S2B_MSIL2A_20190220T080929_N0211_R049_T32CMB_2...   \n",
       "ee21c5d6-53d6-4fdc-bfa8-588600afc240  S2B_MSIL2A_20190112T073919_N0211_R063_T31CES_2...   \n",
       "db6e1b08-2a0a-4d2f-9c6d-730219611a13  S2B_MSIL2A_20190201T073919_N0211_R063_T31CES_2...   \n",
       "db0fb868-b89d-4c7e-8f89-bdfc737295c3  S2B_MSIL2A_20190122T073919_N0211_R063_T31CES_2...   \n",
       "c464d572-3348-499d-b51f-0e59a22e45ca  S2B_MSIL2A_20190201T073919_N0211_R063_T32CMB_2...   \n",
       "\n",
       "                                      level1cpdiidentifier  \\\n",
       "d99e1352-c89a-49e9-a8e3-db3eb5c61e92                   NaN   \n",
       "ee21c5d6-53d6-4fdc-bfa8-588600afc240                   NaN   \n",
       "db6e1b08-2a0a-4d2f-9c6d-730219611a13                   NaN   \n",
       "db0fb868-b89d-4c7e-8f89-bdfc737295c3                   NaN   \n",
       "c464d572-3348-499d-b51f-0e59a22e45ca                   NaN   \n",
       "\n",
       "                                                                             identifier  \\\n",
       "d99e1352-c89a-49e9-a8e3-db3eb5c61e92  S2B_MSIL2A_20190220T080929_N0211_R049_T32CMB_2...   \n",
       "ee21c5d6-53d6-4fdc-bfa8-588600afc240  S2B_MSIL2A_20190112T073919_N0211_R063_T31CES_2...   \n",
       "db6e1b08-2a0a-4d2f-9c6d-730219611a13  S2B_MSIL2A_20190201T073919_N0211_R063_T31CES_2...   \n",
       "db0fb868-b89d-4c7e-8f89-bdfc737295c3  S2B_MSIL2A_20190122T073919_N0211_R063_T31CES_2...   \n",
       "c464d572-3348-499d-b51f-0e59a22e45ca  S2B_MSIL2A_20190201T073919_N0211_R063_T32CMB_2...   \n",
       "\n",
       "                                                                      uuid  \n",
       "d99e1352-c89a-49e9-a8e3-db3eb5c61e92  d99e1352-c89a-49e9-a8e3-db3eb5c61e92  \n",
       "ee21c5d6-53d6-4fdc-bfa8-588600afc240  ee21c5d6-53d6-4fdc-bfa8-588600afc240  \n",
       "db6e1b08-2a0a-4d2f-9c6d-730219611a13  db6e1b08-2a0a-4d2f-9c6d-730219611a13  \n",
       "db0fb868-b89d-4c7e-8f89-bdfc737295c3  db0fb868-b89d-4c7e-8f89-bdfc737295c3  \n",
       "c464d572-3348-499d-b51f-0e59a22e45ca  c464d572-3348-499d-b51f-0e59a22e45ca  \n",
       "\n",
       "[5 rows x 36 columns]"
      ]
     },
     "execution_count": 135,
     "metadata": {},
     "output_type": "execute_result"
    }
   ],
   "source": [
    "products_gdf = api.to_dataframe(products)\n",
    "products_gdf_sorted = products_gdf.sort_values(['cloudcoverpercentage'], ascending=[True])\n",
    "products_gdf_sorted.head(5)"
   ]
  },
  {
   "cell_type": "code",
   "execution_count": 79,
   "metadata": {},
   "outputs": [
    {
     "name": "stderr",
     "output_type": "stream",
     "text": [
      "Downloading: 100%|██████████████████████████████████████████████████████████████████| 185M/185M [00:28<00:00, 6.41MB/s]\n",
      "MD5 checksumming: 100%|█████████████████████████████████████████████████████████████| 185M/185M [00:02<00:00, 69.6MB/s]\n"
     ]
    },
    {
     "data": {
      "text/plain": [
       "{'id': 'd99e1352-c89a-49e9-a8e3-db3eb5c61e92',\n",
       " 'title': 'S2B_MSIL2A_20190220T080929_N0211_R049_T32CMB_20190220T115112',\n",
       " 'size': 185301921,\n",
       " 'md5': 'BFE66DC5E1D5817332B337E7F9B525A2',\n",
       " 'date': datetime.datetime(2019, 2, 20, 8, 9, 29, 24000),\n",
       " 'footprint': 'POLYGON((7.36390290962209 -74.77457269363185,7.300468863618169 -74.80414487333516,7.018287481279597 -74.93374526938884,6.731957757193908 -75.06320838247532,6.441074033631208 -75.19238833900421,6.145600673417892 -75.32125367582307,5.8451020344933 -75.44977024300742,5.539282504625072 -75.57783330970516,5.382337217537358 -75.64216362253737,5.588231062679681 -74.76247216773208,7.36390290962209 -74.77457269363185))',\n",
       " 'url': \"https://scihub.copernicus.eu/dhus/odata/v1/Products('d99e1352-c89a-49e9-a8e3-db3eb5c61e92')/$value\",\n",
       " 'Online': True,\n",
       " 'Creation Date': datetime.datetime(2019, 2, 20, 15, 44, 19, 346000),\n",
       " 'Ingestion Date': datetime.datetime(2019, 2, 20, 15, 39, 25, 716000),\n",
       " 'path': '.\\\\S2B_MSIL2A_20190220T080929_N0211_R049_T32CMB_20190220T115112.zip',\n",
       " 'downloaded_bytes': 185301921}"
      ]
     },
     "execution_count": 79,
     "metadata": {},
     "output_type": "execute_result"
    }
   ],
   "source": [
    "api.download(\"d99e1352-c89a-49e9-a8e3-db3eb5c61e92\")"
   ]
  },
  {
   "cell_type": "code",
   "execution_count": 82,
   "metadata": {},
   "outputs": [
    {
     "name": "stderr",
     "output_type": "stream",
     "text": [
      "'unzip' is not recognized as an internal or external command,\n",
      "operable program or batch file.\n"
     ]
    }
   ],
   "source": [
    "!unzip S2B_MSIL2A_20190220T080929_N0211_R049_T32CMB_20190220T115112.zip --quite"
   ]
  },
  {
   "cell_type": "code",
   "execution_count": 85,
   "metadata": {},
   "outputs": [],
   "source": [
    "from zipfile import ZipFile\n",
    "ZipFile(\"S2B_MSIL2A_20190220T080929_N0211_R049_T32CMB_20190220T115112.zip\").extractall()"
   ]
  },
  {
   "cell_type": "code",
   "execution_count": 86,
   "metadata": {},
   "outputs": [],
   "source": [
    "from osgeo import gdal"
   ]
  },
  {
   "cell_type": "code",
   "execution_count": null,
   "metadata": {},
   "outputs": [],
   "source": [
    "!gdalinfo S2B_MSIL2A_20190220T080929_N0211_R049_T32CMB_20190220T115112.zip"
   ]
  },
  {
   "cell_type": "code",
   "execution_count": null,
   "metadata": {},
   "outputs": [],
   "source": [
    "!gdalinfo S2B_MSIL2A_20190220T080929_N0211_R049_T32CMB_20190220T115112.SAFE\\MTD_MSIL2A.xml"
   ]
  },
  {
   "cell_type": "markdown",
   "metadata": {},
   "source": [
    "Tener en cuenta la primera parte del archivo SENTINEL2_L2A, la ultima parte puede cambiar de acuerdo con el nivel de procesamiento de la imagen 'L1C', etc. Al igual que el CRS en términos de EPSG, el cual puede ser obtenido de la función anterior."
   ]
  },
  {
   "cell_type": "code",
   "execution_count": null,
   "metadata": {},
   "outputs": [],
   "source": [
    "!gdalinfo SENTINEL2_L2A:S2B_MSIL2A_20190220T080929_N0211_R049_T32CMB_20190220T115112.SAFE\\MTD_MSIL2A.xml:10m:EPSG_32732"
   ]
  },
  {
   "cell_type": "code",
   "execution_count": 139,
   "metadata": {},
   "outputs": [
    {
     "name": "stdout",
     "output_type": "stream",
     "text": [
      "Input file size is 10980, 10980\n",
      "0...10...20...30...40...50...60...70...80...90...100 - done.\n"
     ]
    }
   ],
   "source": [
    "!gdal_translate SENTINEL2_L2A:S2B_MSIL2A_20190220T080929_N0211_R049_T32CMB_20190220T115112.SAFE\\MTD_MSIL2A.xml:10m:EPSG_32732 \\\n",
    "                 10m.tif \\\n",
    "                 -co TILED=YES --config GDAL_CACHEMAX 1000 --config GDAL_NUM_THREADS 2"
   ]
  },
  {
   "cell_type": "code",
   "execution_count": 151,
   "metadata": {},
   "outputs": [
    {
     "name": "stdout",
     "output_type": "stream",
     "text": [
      "<osgeo.gdal.Dataset; proxy of <Swig Object of type 'GDALDatasetShadow *' at 0x0000019A6DAE5ED0> >\n"
     ]
    }
   ],
   "source": [
    "dataset = gdal.Open('10m.tif')\n",
    "print(dataset)"
   ]
  },
  {
   "cell_type": "code",
   "execution_count": 152,
   "metadata": {},
   "outputs": [
    {
     "name": "stdout",
     "output_type": "stream",
     "text": [
      "Number of bands in image: 4\n",
      "\n"
     ]
    }
   ],
   "source": [
    "num_bands = dataset.RasterCount\n",
    "print('Number of bands in image: {n}\\n'.format(n=num_bands))"
   ]
  },
  {
   "cell_type": "code",
   "execution_count": 154,
   "metadata": {},
   "outputs": [
    {
     "name": "stdout",
     "output_type": "stream",
     "text": [
      "[[8640 8616 8616 ...    0    0    0]\n",
      " [8560 8528 8616 ...    0    0    0]\n",
      " [8600 8504 8504 ...    0    0    0]\n",
      " ...\n",
      " [   0    0    0 ...    0    0    0]\n",
      " [   0    0    0 ...    0    0    0]\n",
      " [   0    0    0 ...    0    0    0]]\n"
     ]
    }
   ],
   "source": [
    "b1 = dataset.GetRasterBand(1)\n",
    "b1 = b1.ReadAsArray()\n",
    "print(b1)"
   ]
  },
  {
   "cell_type": "code",
   "execution_count": 155,
   "metadata": {},
   "outputs": [
    {
     "data": {
      "image/png": "[encoded data removed]",
      "text/plain": [
       "<Figure size 720x720 with 2 Axes>"
      ]
     },
     "metadata": {
      "needs_background": "light"
     },
     "output_type": "display_data"
    }
   ],
   "source": [
    "b1=np.where(b1==0,np.nan,b1)\n",
    "fig, ax = plt.subplots(1, figsize=(10, 10))\n",
    "plt.imshow(b1)\n",
    "plt.colorbar();\n",
    "plt.show()"
   ]
  }
 ],
 "metadata": {
  "kernelspec": {
   "display_name": "Python 3",
   "language": "python",
   "name": "python3"
  },
  "language_info": {
   "codemirror_mode": {
    "name": "ipython",
    "version": 3
   },
   "file_extension": ".py",
   "mimetype": "text/x-python",
   "name": "python",
   "nbconvert_exporter": "python",
   "pygments_lexer": "ipython3",
   "version": "3.8.3"
  }
 },
 "nbformat": 4,
 "nbformat_minor": 4
}
