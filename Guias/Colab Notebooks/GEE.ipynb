{
 "cells": [
  {
   "cell_type": "code",
   "execution_count": null,
   "metadata": {
    "colab": {},
    "colab_type": "code",
    "id": "oauNb407ohwm"
   },
   "outputs": [],
   "source": [
    "import ee\n",
    "from IPython.display import Image\n",
    "import matplotlib.pyplot as plt"
   ]
  },
  {
   "cell_type": "code",
   "execution_count": 2,
   "metadata": {
    "colab": {
     "base_uri": "https://localhost:8080/",
     "height": 173
    },
    "colab_type": "code",
    "executionInfo": {
     "elapsed": 18347,
     "status": "ok",
     "timestamp": 1586190546957,
     "user": {
      "displayName": "Edier Vicente Aristizabal Giraldo",
      "photoUrl": "https://lh3.googleusercontent.com/a-/AOh14Gg0afJy-VHb9gW5tEA0EUfeVH2ZsMGtzgPJG3UL=s64",
      "userId": "14756502124163770629"
     },
     "user_tz": 300
    },
    "id": "YE7adPuBpfFj",
    "outputId": "4e0230a2-38a3-49db-cda6-0c43c9d73424"
   },
   "outputs": [
    {
     "name": "stdout",
     "output_type": "stream",
     "text": [
      "To authorize access needed by Earth Engine, open the following URL in a web browser and follow the instructions. If the web browser does not start automatically, please manually browse the URL below.\n",
      "\n",
      "    https://accounts.google.com/o/oauth2/auth?client_id=517222506229-vsmmajv00ul0bs7p89v5m89qs8eb9359.apps.googleusercontent.com&scope=https%3A%2F%2Fwww.googleapis.com%2Fauth%2Fearthengine+https%3A%2F%2Fwww.googleapis.com%2Fauth%2Fdevstorage.full_control&redirect_uri=urn%3Aietf%3Awg%3Aoauth%3A2.0%3Aoob&response_type=code&code_challenge=64elQ5ilBvWS11y9QYQu1lf8fSC7ayk66Gz8PJK2hB8&code_challenge_method=S256\n",
      "\n",
      "The authorization workflow will generate a code, which you should paste in the box below. \n",
      "Enter verification code: 4/yQFrLq8SHTSVy613uA3Svpth1A9dHXnjm4sZ3peji6YAsZlfRzVqlxg\n",
      "\n",
      "Successfully saved authorization token.\n"
     ]
    }
   ],
   "source": [
    "ee.Authenticate(0)"
   ]
  },
  {
   "cell_type": "code",
   "execution_count": null,
   "metadata": {
    "colab": {},
    "colab_type": "code",
    "id": "DO3_Fpbtokuk"
   },
   "outputs": [],
   "source": [
    "ee.Initialize()"
   ]
  },
  {
   "cell_type": "code",
   "execution_count": null,
   "metadata": {
    "colab": {},
    "colab_type": "code",
    "id": "V0QWUtffpxQu"
   },
   "outputs": [],
   "source": [
    "img=ee.Image('LANDSAT/LT05/C01/T1_SR/LT05_034033_20000913')\n"
   ]
  },
  {
   "cell_type": "code",
   "execution_count": 5,
   "metadata": {
    "colab": {
     "base_uri": "https://localhost:8080/",
     "height": 136
    },
    "colab_type": "code",
    "executionInfo": {
     "elapsed": 565,
     "status": "ok",
     "timestamp": 1586190561236,
     "user": {
      "displayName": "Edier Vicente Aristizabal Giraldo",
      "photoUrl": "https://lh3.googleusercontent.com/a-/AOh14Gg0afJy-VHb9gW5tEA0EUfeVH2ZsMGtzgPJG3UL=s64",
      "userId": "14756502124163770629"
     },
     "user_tz": 300
    },
    "id": "s3lPOUU-x_48",
    "outputId": "62c817ed-33fd-4a46-f1d4-f06911d004f3"
   },
   "outputs": [
    {
     "name": "stdout",
     "output_type": "stream",
     "text": [
      "ee.Image({\n",
      "  \"type\": \"Invocation\",\n",
      "  \"arguments\": {\n",
      "    \"id\": \"LANDSAT/LT05/C01/T1_SR/LT05_034033_20000913\"\n",
      "  },\n",
      "  \"functionName\": \"Image.load\"\n",
      "})\n"
     ]
    }
   ],
   "source": [
    "print(img)"
   ]
  },
  {
   "cell_type": "code",
   "execution_count": 6,
   "metadata": {
    "colab": {
     "base_uri": "https://localhost:8080/",
     "height": 54
    },
    "colab_type": "code",
    "executionInfo": {
     "elapsed": 540,
     "status": "ok",
     "timestamp": 1586190567449,
     "user": {
      "displayName": "Edier Vicente Aristizabal Giraldo",
      "photoUrl": "https://lh3.googleusercontent.com/a-/AOh14Gg0afJy-VHb9gW5tEA0EUfeVH2ZsMGtzgPJG3UL=s64",
      "userId": "14756502124163770629"
     },
     "user_tz": 300
    },
    "id": "OtVgwBHcyNkw",
    "outputId": "2322eced-f7df-425a-f3bd-bbced53a3022"
   },
   "outputs": [
    {
     "name": "stdout",
     "output_type": "stream",
     "text": [
      "{'type': 'Image', 'bands': [{'id': 'B1', 'data_type': {'type': 'PixelType', 'precision': 'int', 'min': -32768, 'max': 32767}, 'dimensions': [7961, 7301], 'crs': 'EPSG:32613', 'crs_transform': [30, 0, 270285, 0, -30, 4414815]}, {'id': 'B2', 'data_type': {'type': 'PixelType', 'precision': 'int', 'min': -32768, 'max': 32767}, 'dimensions': [7961, 7301], 'crs': 'EPSG:32613', 'crs_transform': [30, 0, 270285, 0, -30, 4414815]}, {'id': 'B3', 'data_type': {'type': 'PixelType', 'precision': 'int', 'min': -32768, 'max': 32767}, 'dimensions': [7961, 7301], 'crs': 'EPSG:32613', 'crs_transform': [30, 0, 270285, 0, -30, 4414815]}, {'id': 'B4', 'data_type': {'type': 'PixelType', 'precision': 'int', 'min': -32768, 'max': 32767}, 'dimensions': [7961, 7301], 'crs': 'EPSG:32613', 'crs_transform': [30, 0, 270285, 0, -30, 4414815]}, {'id': 'B5', 'data_type': {'type': 'PixelType', 'precision': 'int', 'min': -32768, 'max': 32767}, 'dimensions': [7961, 7301], 'crs': 'EPSG:32613', 'crs_transform': [30, 0, 270285, 0, -30, 4414815]}, {'id': 'B6', 'data_type': {'type': 'PixelType', 'precision': 'int', 'min': -32768, 'max': 32767}, 'dimensions': [7961, 7301], 'crs': 'EPSG:32613', 'crs_transform': [30, 0, 270285, 0, -30, 4414815]}, {'id': 'B7', 'data_type': {'type': 'PixelType', 'precision': 'int', 'min': -32768, 'max': 32767}, 'dimensions': [7961, 7301], 'crs': 'EPSG:32613', 'crs_transform': [30, 0, 270285, 0, -30, 4414815]}, {'id': 'sr_atmos_opacity', 'data_type': {'type': 'PixelType', 'precision': 'int', 'min': -32768, 'max': 32767}, 'dimensions': [7961, 7301], 'crs': 'EPSG:32613', 'crs_transform': [30, 0, 270285, 0, -30, 4414815]}, {'id': 'sr_cloud_qa', 'data_type': {'type': 'PixelType', 'precision': 'int', 'min': 0, 'max': 255}, 'dimensions': [7961, 7301], 'crs': 'EPSG:32613', 'crs_transform': [30, 0, 270285, 0, -30, 4414815]}, {'id': 'pixel_qa', 'data_type': {'type': 'PixelType', 'precision': 'int', 'min': 0, 'max': 65535}, 'dimensions': [7961, 7301], 'crs': 'EPSG:32613', 'crs_transform': [30, 0, 270285, 0, -30, 4414815]}, {'id': 'radsat_qa', 'data_type': {'type': 'PixelType', 'precision': 'int', 'min': 0, 'max': 255}, 'dimensions': [7961, 7301], 'crs': 'EPSG:32613', 'crs_transform': [30, 0, 270285, 0, -30, 4414815]}], 'id': 'LANDSAT/LT05/C01/T1_SR/LT05_034033_20000913', 'version': 1538944486718967, 'properties': {'IMAGE_QUALITY': 9, 'SATELLITE': 'LANDSAT_5', 'SOLAR_AZIMUTH_ANGLE': 141.401031, 'CLOUD_COVER': 0, 'WRS_PATH': 34, 'EARTH_SUN_DISTANCE': 1.005947, 'system:time_start': 968865725989, 'LANDSAT_ID': 'LT05_L1TP_034033_20000913_20160918_01_T1', 'SENSING_TIME': '2000-09-13T17:22:05.9890880Z', 'ESPA_VERSION': '2_19_0c', 'SOLAR_ZENITH_ANGLE': 41.934059, 'system:footprint': {'type': 'LinearRing', 'coordinates': [[-107.02869086291923, 39.84432363800019], [-107.07980980087045, 39.85126661965529], [-107.08652717633666, 39.849697643108755], [-107.0897758455212, 39.8405819578208], [-107.11182940314823, 39.7707179631659], [-107.21879155445666, 39.413849310454374], [-107.37259194928556, 38.891052103694385], [-107.52433643751696, 38.368081812423796], [-107.55395385669085, 38.263097139745526], [-107.56063282665062, 38.23679490602129], [-107.55934893818782, 38.23317297774577], [-105.49311751312952, 37.930606804132815], [-105.48965894759056, 37.939600449971515], [-105.4779323992155, 37.97426299040739], [-105.4665343056877, 38.00837900396258], [-105.29373593893524, 38.543204771752215], [-105.00027724293751, 39.443187322446825], [-104.96794099898516, 39.54191304485849], [-107.02869086291923, 39.84432363800019]]}, 'WRS_ROW': 33, 'GEOMETRIC_RMSE_MODEL_Y': 3.358, 'LEVEL1_PRODUCTION_DATE': 1474209899000, 'CLOUD_COVER_LAND': 0, 'GEOMETRIC_RMSE_MODEL_X': 2.493, 'system:asset_size': 365532987, 'GEOMETRIC_RMSE_MODEL': 4.182, 'SR_APP_VERSION': 'LEDAPS_3.2.0', 'PIXEL_QA_VERSION': 'generate_pixel_qa_1.5.0', 'system:index': 'LT05_034033_20000913'}}\n"
     ]
    }
   ],
   "source": [
    "print(img.getInfo())"
   ]
  },
  {
   "cell_type": "code",
   "execution_count": 7,
   "metadata": {
    "colab": {
     "base_uri": "https://localhost:8080/",
     "height": 37
    },
    "colab_type": "code",
    "executionInfo": {
     "elapsed": 775,
     "status": "ok",
     "timestamp": 1586190581639,
     "user": {
      "displayName": "Edier Vicente Aristizabal Giraldo",
      "photoUrl": "https://lh3.googleusercontent.com/a-/AOh14Gg0afJy-VHb9gW5tEA0EUfeVH2ZsMGtzgPJG3UL=s64",
      "userId": "14756502124163770629"
     },
     "user_tz": 300
    },
    "id": "JO1Aj1NsuD-R",
    "outputId": "b2c62efb-6b43-4e07-a935-fd6c6834f4b4"
   },
   "outputs": [
    {
     "data": {
      "text/html": [
       "<img src=\"https://earthengine.googleapis.com/v1alpha/projects/earthengine-legacy/thumbnails/47ddea5df3db14f5f20cfa07d1b6ea9f-b53545231820f537fb6ac7e94343204c:getPixels\"/>"
      ],
      "text/plain": [
       "<IPython.core.display.Image object>"
      ]
     },
     "execution_count": 7,
     "metadata": {
      "tags": []
     },
     "output_type": "execute_result"
    }
   ],
   "source": [
    "Image(url=img.getThumbURL({'bands':['B4','B3','B2'], 'min':100,'max':3500,\n",
    "                           'region':[[[-75.67086291359112,6.072916792136425],\n",
    "                                      [-75.25475573585675,6.072916792136425],\n",
    "                                      [-75.25475573585675,6.380084130088567],\n",
    "                                      [-75.67086291359112,6.380084130088567]]]}))"
   ]
  },
  {
   "cell_type": "code",
   "execution_count": 8,
   "metadata": {
    "colab": {
     "base_uri": "https://localhost:8080/",
     "height": 284
    },
    "colab_type": "code",
    "executionInfo": {
     "elapsed": 838,
     "status": "ok",
     "timestamp": 1586190589945,
     "user": {
      "displayName": "Edier Vicente Aristizabal Giraldo",
      "photoUrl": "https://lh3.googleusercontent.com/a-/AOh14Gg0afJy-VHb9gW5tEA0EUfeVH2ZsMGtzgPJG3UL=s64",
      "userId": "14756502124163770629"
     },
     "user_tz": 300
    },
    "id": "GWULzoI2t-yx",
    "outputId": "df0240e5-5376-49c3-ec76-6b71ee2f4abc"
   },
   "outputs": [
    {
     "data": {
      "image/png": "[encoded data removed]",
      "text/plain": [
       "<Figure size 432x288 with 1 Axes>"
      ]
     },
     "metadata": {
      "tags": []
     },
     "output_type": "display_data"
    }
   ],
   "source": [
    "# Select Red and NIR bands, scale them, and sample 500 points.\n",
    "samp_fc = img.select(['B3','B4']).divide(10000).sample(scale=30, numPixels=500)\n",
    "\n",
    "# Arrange the sample as a list of lists.\n",
    "samp_dict = samp_fc.reduceColumns(ee.Reducer.toList().repeat(2), ['B3', 'B4'])\n",
    "samp_list = ee.List(samp_dict.get('list'))\n",
    "\n",
    "# Save server-side ee.List as a client-side Python list.\n",
    "samp_data = samp_list.getInfo()\n",
    "\n",
    "# Display a scatter plot of Red-NIR sample pairs using matplotlib.\n",
    "plt.scatter(samp_data[0], samp_data[1], alpha=0.2)\n",
    "plt.xlabel('Red', fontsize=12)\n",
    "plt.ylabel('NIR', fontsize=12)\n",
    "plt.show()"
   ]
  }
 ],
 "metadata": {
  "colab": {
   "collapsed_sections": [],
   "name": "GEE.ipynb",
   "provenance": []
  },
  "kernelspec": {
   "display_name": "Python 3",
   "language": "python",
   "name": "python3"
  },
  "language_info": {
   "codemirror_mode": {
    "name": "ipython",
    "version": 3
   },
   "file_extension": ".py",
   "mimetype": "text/x-python",
   "name": "python",
   "nbconvert_exporter": "python",
   "pygments_lexer": "ipython3",
   "version": "3.7.0"
  }
 },
 "nbformat": 4,
 "nbformat_minor": 2
}
